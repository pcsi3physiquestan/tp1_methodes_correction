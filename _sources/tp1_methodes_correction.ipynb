{
 "cells": [
  {
   "cell_type": "markdown",
   "id": "a16d2238",
   "metadata": {},
   "source": [
    "# Méthodes expérimentales\n",
    "\n",
    "Dans cette séquence, vous aller apprendre à :\n",
    "1. Organiser une manipulation autour des trois axes : protocole, observation, exploitation.\n",
    "2. Estimer l'incertitude d'un mesurande\n",
    "3. Rendre compte de résultat sous différentes formes.\n",
    "4. Utiliser certaines méthodes courantes d'exploitation des données\n",
    "\n",
    "Cette séquence sera basée sur la détermination de la célérité des ultrasons dans l'air à température et pression ambiante.\n",
    "\n",
    "__Compétences mises en jeu :__\n",
    "\n",
    "ATTENTION : Les compétences mises en jeu ici sont transverses et seront réutilisées dans tous les TPs.\n",
    "\n",
    "| Compétences | Je sais de quoi ça parle | Je peux explier la méthode | Je sais l'appliquer |\n",
    "|:------------| :-:|:-:|:-:|\n",
    "|Identifier les sources d'incertitude (opérateur, environnement, instruments, méthode)||||\n",
    "|Procéder à l'évaluation d'une incertitude-type par une approche statistique (Type A)||||\n",
    "|Procéder à l'évaluation d'une incertitude-type par une autre approche que statistique (Type B)||||\n",
    "|Simuler un processus aléatoire permettant de caractériser la variabilité d'une grandeur composée (Monte-Carlo)||||\n",
    "|Ecrire, avec un nombre adapté de chiffres significatifs, le résultat d'une mesure||||\n",
    "|Comparer deux valeurs dont les incertitudes-types sont connues à l'aide de leur écart normalisé.||||\n",
    "|Utiliser une méthode de régression linéaire afin d'obtenir les valeurs des paramètres du modèle.||||\n",
    "|Procéder à la validation d'un modèle ajusté graphiquement ou par les écarts normalisés.||||\n",
    "|Mesurer une longueur d’onde acoustique à l’aide d’un support gradué et d’un oscilloscope bicourbe.||||\n",
    "|Mesurer la célérité d'une onde||||"
   ]
  }
 ],
 "metadata": {
  "jupytext": {
   "encoding": "# -*- coding: utf-8 -*-",
   "formats": "ipynb,md:myst",
   "split_at_heading": true,
   "text_representation": {
    "extension": ".md",
    "format_name": "myst",
    "format_version": 0.13,
    "jupytext_version": "1.10.3"
   }
  },
  "kernelspec": {
   "display_name": "Python 3",
   "language": "python",
   "name": "python3"
  },
  "language_info": {
   "codemirror_mode": {
    "name": "ipython",
    "version": 3
   },
   "file_extension": ".py",
   "mimetype": "text/x-python",
   "name": "python",
   "nbconvert_exporter": "python",
   "pygments_lexer": "ipython3",
   "version": "3.9.15"
  },
  "source_map": [
   15
  ]
 },
 "nbformat": 4,
 "nbformat_minor": 5
}