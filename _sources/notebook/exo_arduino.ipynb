{
 "cells": [
  {
   "cell_type": "markdown",
   "id": "d4f4510d",
   "metadata": {},
   "source": [
    "# Utilisation d'un microcontrolleur (1h)\n",
    "## Obtention des données expérimentales\n",
    "### Principe et protocole\n",
    "On désire mesurer la célérité du son dans l'air un grand nombre de fois. On va pour cela utiliser un émetteur récepteur ultrasons et une carte Arduino. \n",
    "\n",
    "*Principe de mesure* : On place un obstacle à une distance $d$ de l'émetteur-récepteur puis on va mesurer le temps de vol $t$. On peut obtenir la célérité du son grâce à la relation $c = \\frac{2d}{t}$.\n",
    "\n",
    "Pour plus de précision, on va réaliser des mesures pour plusieurs distances $d$ et on réalisera une régression linéaire en traçant $t$ en fonction de $d$. La pente permettra de remonter à la célérité du son. Le montage réalisé est donné ci-dessous (on place l'obstacle devant l'émetteur).\n",
    "\n",
    "![Montage de mesure de la célérité du son](./images/celerite_son_montage.png)\n",
    "\n",
    "*La LED sert simplement pour avertir que l'émetteur récepteur est en train de faire une mesure*\n",
    "\n",
    "La carte Arduino sera programmée pour renvoyer N mesures du temps de vol (N est choisi par l'expérimentateur)."
   ]
  },
  {
   "cell_type": "markdown",
   "id": "9a71c033",
   "metadata": {},
   "source": [
    "### Programmation de la carte Arduino.\n",
    "1. Télécharger le __dossier__ depuis le site de la classe __sur l'ordinateur du laboratoire__. Ouvrir le logiciel Arduino et ouvrir le fichier `vitesse_son_2.ino`.\n",
    "2. Réaliser le montage ci-dessus (bien respecter le numéro des bornes de branchement) et brancher la carte Arduino à l'ordinateur.\n",
    "3. Sélectionner le port associé à sa carte (`Outils > Port`). Noter le nom de la carte, vous en aurez besoin plus tard. Téléverser alors le programme dans Arduino. Le microcontrolleur est en attente.\n",
    "4. Ouvrir dans `pyzo` le fichier `celerite_son_acquisition.py`. Ce programme va communiquer avec Arduino pour configurer l'acquisition puis enregistrer les données. Changer le nom du port (ligne 7).\n",
    "5. Exécuter le programme. Entrer un nom de fichier clair (éviter les espaces) et choisir 1000 échantillons.\n",
    "\n",
    "## Traitement des données.\n",
    "Utiliser la cellules ci-dessous pour :\n",
    "\n",
    "1. Importer les données dans un vecteur. Utiliser le code expliqué [ici](https://pcsi3physiquestan.github.io/intro_python/notebook/import_file.html)\n",
    "2. Tracer l'histogramme des mesures et vérifier qu'il n'y a pas visuellement de mesures aberrantes.\n",
    "3. Si c'est le cas, supprimer les données aberrantes en appliquant le processus de sélection présenté [ici](https://pcsi3physiquestan.github.io/intro_python_td/notebook/exo_science_2.html#celerite-des-ultrasons).\n",
    "4. Déterminer alors la célérité associée à chaque temps de vol puis la célérité moyenne et son écart-type. Comparer cette valeur à la valeur attendue."
   ]
  },
  {
   "cell_type": "code",
   "execution_count": 1,
   "id": "a96d0f66",
   "metadata": {
    "tags": [
     "remove-output",
     "hide-input"
    ]
   },
   "outputs": [
    {
     "data": {
      "text/plain": [
       "\"\\nN'oubliez pas d'importer les bibliothèques utiles.\\n\""
      ]
     },
     "execution_count": 1,
     "metadata": {},
     "output_type": "execute_result"
    }
   ],
   "source": [
    "\"\"\"\n",
    "N'oubliez pas d'importer les bibliothèques utiles.\n",
    "\"\"\"\n"
   ]
  }
 ],
 "metadata": {
  "jupytext": {
   "formats": "ipynb,md:myst",
   "text_representation": {
    "extension": ".md",
    "format_name": "myst",
    "format_version": 0.13,
    "jupytext_version": "1.10.3"
   }
  },
  "kernelspec": {
   "display_name": "Python 3",
   "language": "python",
   "name": "python3"
  },
  "language_info": {
   "codemirror_mode": {
    "name": "ipython",
    "version": 3
   },
   "file_extension": ".py",
   "mimetype": "text/x-python",
   "name": "python",
   "nbconvert_exporter": "python",
   "pygments_lexer": "ipython3",
   "version": "3.9.15"
  },
  "source_map": [
   13,
   30,
   47
  ]
 },
 "nbformat": 4,
 "nbformat_minor": 5
}