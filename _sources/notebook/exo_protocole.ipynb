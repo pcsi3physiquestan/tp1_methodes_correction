{
 "cells": [
  {
   "cell_type": "markdown",
   "id": "fbb8036c",
   "metadata": {},
   "source": [
    "# (Travail) Etude préliminaire\n",
    "\n",
    "\n",
    "## Conception\n",
    "Vous devrez proposer un protocole expérimental rédigé sur le sujet suivant. On rappelle que vous devez présenter le __but de l'expérience__, le __principe de mesure__ puis le __mode opératoire__ de façon __precise et concise__.\n",
    "\n",
    "### Matériel à disposition\n",
    "On désire mesurer la célérité des ultrasons dans l'air. On dispose du matériel suivant :\n",
    "* Emetteur ultrason capable d'envoyer un signal ultrason en continu ou par salves.\n",
    "* 2 Récepteurs ultrasons transformant le signal reçu en une tension mesurable.\n",
    "* Carte d'acquisition et ordinateur permettant la mesure des signaux émis et reçus par l'émetteur et le récepteur (moyennant branchements) et l'affichage de leur évolution dans le temps.\n",
    "* Alimentation continue 0-15V permettant d'alimenter l'émetteur\n",
    "* Réglet\n",
    "* Fils de connexion pour la carte d'acquisition et le générateur.\n",
    "\n",
    "### Description particulière\n",
    "\n",
    "#### Emetteur Ultrason\n",
    "\n",
    "L'[emetteur ultrason](emetteur) est un boitier créant lui même le signal électrique alimentant une cellule piezoélectrique qui émet ainsi un signal ultrason. Il nécessite d'être alimenté par une tension continue de 15V.\n",
    "\n",
    "```{figure} ./images/emetteur.jpg\n",
    ":name: emetteur\n",
    ":align: center\n",
    ":width: 50%\n",
    "Emetteur ultrasons\n",
    "```\n",
    "\n",
    "(carac_ultrason)=\n",
    "Les réglages possibles sont :\n",
    "* Une molette permet d'ajuster la __fréquence__ (autour de 40kHz) : La cellule piézo-électrique est un filtre passe-bande, il y a donc une fréquence pour laquelle l'émission sera maximale. Cette molette permet de la régler (placer un récepteur juste devant l'émetteur et ajuster la fréquence jusqu'à ce que le signal reçu soit maximal).\n",
    "* Passage en émission continu ou par salve. Il existe deux types de salves :\n",
    "    * salves courtes : durée d'émission de 1ms puis 4ms de silence\n",
    "    * salves longues : durée d'émission de 6ms puis 4ms de silence"
   ]
  },
  {
   "cell_type": "markdown",
   "id": "d5b3aa00",
   "metadata": {},
   "source": [
    "### Réponse\n",
    "Rédiger par écrit le protocole expérimental. __N'oubliez pas un schéma de votre montage.__"
   ]
  },
  {
   "cell_type": "markdown",
   "id": "3513f935",
   "metadata": {},
   "source": [
    "(exemple_proto)=\n",
    "### Exemple de réponse\n",
    "__Après__ avoir réfléchi au protocole, vous pouvez afficher une proposition de protocole (_croix à droite_).\n",
    "\n",
    "```{toggle}\n",
    "__But__ : On veut déterminer la célérité des ultrasons dans l'air.\n",
    "\n",
    "__Principe__ : La célérité $c$ du son permet de relier la distance $d$ parcourue par l'onde au temps de parcours $\\Delta t$ :\n",
    "\n",
    "$$c = \\frac{d}{\\Delta t}$$\n",
    "\n",
    "__Mode opératoire__ : \n",
    "1. On réalise le montage ci-après. L'émetteur emet des salves courtes. \n",
    "3. On mesure les positions $d_1$ et $d_2$ des deux récepteurs sur le réglet puis la distance $d = d_2 - d_1$.\n",
    "2. On acquiert en même temps les signaux reçus par les deux récepteurs.\n",
    "3. On peut déterminer les instants $t_1$ correspondant au maximum du signal reçu par le récepteur 1 et $t_2$ correspondant au maximum du signal reçu par le récepteur 2. Le temps de vol est estimé par $\\Delta t = t_2 - t_1$.\n",
    "5. On détermine alors la célérité du son par $c = \\frac{d}{\\Delta t}$\n",
    "\n",
    "![Montage d'étude de c](./images/ultrasons_protocole_2.jpg)\n",
    "\n",
    "__Remarques:__\n",
    "\n",
    "* L'utilisation d'un schéma du montage est indispensable à chaque protocole.\n",
    "```\n",
    "\n",
    "```{margin}\n",
    "On réfléchira à la raison d'utiliser le temps entre deux récepteurs et non entre l'émetteur et un récepteur.\n",
    "```\n",
    "\n",
    "````{admonition} Exercice préliminaire\n",
    ":class: hint\n",
    "1. Quelle durée d'acquisition choisir pour observer deux salves courtes sur les signaux des 2 récepteurs? _(La règle ne dépasse pas 1 mètre et la célérité du son est de l'ordre de 350m/s)_\n",
    "2. Le rail permet des mesures de distance entre 0 et 550mm. Echanger avec l'ensemble des binômes pour que chacun des 12 groupes fasse une mesure de célérité pour une distance différente.\n",
    "````"
   ]
  },
  {
   "cell_type": "markdown",
   "id": "3b1556a4",
   "metadata": {},
   "source": [
    "## Analyse des mesurandes directs.\n",
    "Dans cette étude préliminaire, vous devez déterminer _précisément_ quels sont les mesurandes _directs_ que vous allez mesurer durant la manipulation.\n",
    "\n",
    "On rappelle que ce sont ceux que vous mesurez directement durant la manipulation, sans devoir réaliser un calcul supplémentaire.\n",
    "\n",
    "Vous préciserez au moyen de quel instrument sont mesurés chaque grandeur.\n",
    "\n",
    "Après avoir réfléchi à la question, vous pouvez la réponse en cliquant sur la croix à droite.\n",
    "\n",
    "```{toggle}\n",
    "Pour mesurer la célérité du son, on doit, dans le protocole choisi mesurer le temps de vol $\\Delta t$ et la distance entre les récepteurs $d$. __Mais ce ne sont pas ces grandeurs qu'on mesure directement.__\n",
    "\n",
    "En réalité, on va mesurer directement :\n",
    "* La position $d_1$. Elle sera repérée sur le réglet.\n",
    "* La position $d_2$. Elle sera repérée sur le réglet.\n",
    "* Le temps du maximum du signal reçu $t_1$. Il sera lu graphiquement sur le tracé temporel du signal (logiciel sur ordinateur).\n",
    "* Le temps du maximum du signal reçu $t_2$. Il sera lu graphiquement sur le tracé temporel du signal (logiciel sur ordinateur).\n",
    "\n",
    "Cette phase de réflexion est importante car on confond souvent les grandeurs qu'on veut avoir et les grandeurs qu'on mesure directement. De plus, c'est sur CES grandeurs qu'on va faire un bilan des sources d'incertitudes.\n",
    "```"
   ]
  }
 ],
 "metadata": {
  "jupytext": {
   "formats": "ipynb,md:myst",
   "split_at_heading": true
  },
  "kernelspec": {
   "display_name": "Python 3",
   "language": "python",
   "name": "python3"
  }
 },
 "nbformat": 4,
 "nbformat_minor": 5
}
