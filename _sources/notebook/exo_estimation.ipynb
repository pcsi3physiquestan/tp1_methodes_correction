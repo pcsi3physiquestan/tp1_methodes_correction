{
 "cells": [
  {
   "cell_type": "markdown",
   "id": "989a80fe",
   "metadata": {},
   "source": [
    "La page ci-présente existe en version notebook téléchargeable grâce au bouton ![Bouton](./images/bouton_tl.png) (choisir le format `.ipynb`). On rappelle qu'l faut ensuite l'enregistrer dans un répertoire adéquat sur votre ordinateur (`tp1` par exemple dans votre répertoire personnel) puis lancer Jupyter Notebook depuis Anaconda pour accéder au notebook, le modifier et exécutez les cellules de code adéquates."
   ]
  },
  {
   "cell_type": "markdown",
   "id": "1d112a04",
   "metadata": {},
   "source": [
    "# (TP) Application à l'étude des ultrasons. (1h)\n",
    "On reprend l'étude de la propagation des ultrasons. Le but est de déterminer la célérité du son dans l'air. \n",
    "Le protocole réalisé et le matériel utilisé est celui proposé dans l'[exercice que vous avez fait précédemment](exo_protocole).\n",
    "\n",
    "## Réalisation du protocole et estimation des incertitudes-type\n",
    "Cette partie sera réalisée en TP. Lisez-là pour savoir ce que vous devrez faire mais vous ne pourrez pas faire grand chose avant le TP (sauf précision)."
   ]
  },
  {
   "cell_type": "markdown",
   "id": "6f7895ff",
   "metadata": {},
   "source": [
    "### Mise en place\n",
    "Le protocole à réaliser est affichable en cliquant sur la croix à droite.\n",
    "\n",
    "````{toggle}\n",
    "```{figure} ./images/atelierscientifique_v2.png\n",
    ":name: at_scient\n",
    ":align: center\n",
    "Titre\n",
    "```\n",
    "1. Réaliser le montage en n'oubliant pas d'alimenter l'émetteur et de le régler et en branchant les deux récepteurs sur la console FOXY. Régler l'émetteur en mode salves courtes.\n",
    "2. __Brancher un connecteur BNC-fil simple entre l'émetteur et FOXY.__ Ce signal est le signal alimentant l'émetteur (_pas le signal émis_). Il servira à synchroniser l'affichage.\n",
    "2. Brancher la console FOXY à l'ordinateur. Une \"tablette\" simulée s'ouvre. __Choisir généraliste.__\n",
    "3. Préparer l'acquisition (`Affichage > Acquisition` _Conseil : décocher l'option \"Fermer au lancement de l'acquisition\" pour garder cette fenêtre de réglage durant le TP_):\n",
    "    * Choisir les voies à acquérir (_icone rouge et noir à droite du [mini-graphique](at_scient)_)\n",
    "        1. Les placer (glisser-déplacer) sur l'axe des ordonnées du petit graphique.\n",
    "        2. Les nommer clairement (onglet `Grandeur` sous le petit graphique quand vous sélectionner la voie choisie)\n",
    "        3. Choisir le calibre de chaque voie (le signal ne dépassera pas 10V).\n",
    "    * Régler la base de temps de l'acquisition\n",
    "        1. Choisir d'acquérir en fonction du temps ([Horloge](at_scient) à placer sur l'axe des abscisses)\n",
    "        2. Régler la durée d'acquisition (dans `Fonction du temps` quand vous sélectionnez l'horloge) comme choisi dans [l'étude préliminaire](exemple_proto).\n",
    "        3. Régler le nombre de points à 10000 (on apprendra plus tard à réfléchir à ce choix).\n",
    "        4. Cocher `Acquisition continue` de manière à ne pas avoir besoin de relancer l'acquisition à chaque fois.\n",
    "    * Régler la synchronisation : il faut choisir à quelle valeur démarrera l'affichage des signaux pour observer un signal stable.\n",
    "        1. Dans l'onglet (Menus de l'horloge) `Synchronisation` choisir la `Voie de synchro` correspondant au signal de l'émetteur.\n",
    "        2. Choisir une `Niveau` de 1(V) `Croissant`.\n",
    "    * Vous pouvez maintenant lancer l'acquisition !\n",
    "\n",
    "````\n",
    "\n",
    "### Réalisation des mesures - Bilan des incertitudes\n",
    "\n",
    "Vous devez maintenant réaliser la mesure.\n",
    "\n",
    "```{attention}\n",
    "Au préalable, vous avez dû discuter au préalable avec le reste du groupe pour vous répartir les distances de mesure de sorte que chaque élève fasse une mesure de temps de vol pour une distance différente.\n",
    "```\n",
    "\n",
    "Rendre compte :\n",
    "* des résultats de mesurage\n",
    "* des différentes sources d'incertitude avec leur estimation si elles sont non négligeables"
   ]
  },
  {
   "cell_type": "markdown",
   "id": "d2ea8fc7",
   "metadata": {},
   "source": [
    "## Estimation de la célérité.\n",
    "\n",
    "### Estimation simple\n",
    "Vous aller devoir utiliser la cellule suivante pour déterminer la célérité. On ne s'occupe pas pour l'instant de déterminer son incertitude."
   ]
  },
  {
   "cell_type": "code",
   "execution_count": 3,
   "id": "75daa3a7",
   "metadata": {
    "tags": [
     "hide-input",
     "hide-output"
    ]
   },
   "outputs": [
    {
     "name": "stdout",
     "output_type": "stream",
     "text": [
      "c = 36.80653148631466\n"
     ]
    }
   ],
   "source": [
    "\"\"\"\n",
    "Vous devez commencer par importer les bibliothèques utiles :\n",
    "- numpy (manipulation de vecteurs de valeurs)\n",
    "- numpy.random (simulation de tirages aléatoires)\n",
    "- matplotlib.pyplot (tracés graphiques)\n",
    "Elles seront utiles par la suite (pas pour cette cellule).\n",
    "\"\"\"\n",
    "import numpy as np  # Pour le calcul sur un ensemble de valeurs\n",
    "import numpy.random as rd  # Pour la création de nombres aléatoires\n",
    "import matplotlib.pyplot as plt  # Pour les tracés graphiques\n",
    "\n",
    "\"\"\"\n",
    "Il faudra bien sûr modifier cette partie en TP.\n",
    "\n",
    "Enregistrer les valeurs mesurées dans des variables t1_m, t2_m, d1_m et d2_m\n",
    "\"\"\"\n",
    "\n",
    "t1_m = 7.437e-1  # Valeur mesurée pour t1\n",
    "t2_m = 2.238  # Valeur mesurée pour t2\n",
    "d1_m = 0  # Valeur mesurée pour d1\n",
    "d2_m = 55  # Valeur mesurée pour d2\n",
    "\n",
    "\n",
    "# Estimation de la célérité\n",
    "c_m = (d2_m - d1_m) / (t2_m - t1_m)  # Utiliser LES VARIABLES introduites précédemment pour estimer la célérité des ondes.\n",
    "\n",
    "print(\"c = \" + str(c_m))  # ATTENTION : Les chiffres ne sont évidemment pas tous significatifs."
   ]
  },
  {
   "cell_type": "markdown",
   "id": "c37f3b78",
   "metadata": {},
   "source": [
    "### Combinaison des incertitudes. Simulation de Monte-Carlo.\n",
    "\n",
    "Pour rappel, la méthode de Monte-Carlo consiste:\n",
    "* On répète N fois:\n",
    "    1. à simuler de nouvelles valeurs des mesurandes directes (_ici $t_1, t_2, d_1, d_2$_) : on réalise, pour chaque source d'incertitude un tirage aléatoire d'une valeur suivant la distribution choisie (ici des distributions __uniformes__ de largeur estimée lors de l'expérience - `numpy.random.uniform(a : float, b :float) -> float`) auquel on ajoute la valeur mesurée (`t1_m, t2_m, d1_m, d2_m`).\n",
    "    2. à déterminer une nouvelle valeur simulée du mesurandes indirect recherché (_ici $c$_) et stocker cette valeur dans une liste prévue au préalable.\n",
    "* On obtient ainsi une liste de N valeurs de $c$ simulées à partir des tirages aléatoires. On peut donc calculer des grandeurs statistiques. On calculera ainsi:\n",
    "    1. L'écart-type (`numpy.std(liste_val : list, ddof=1) -> float`)de la liste de valeurs et __on considèrera cet ecart-type comme étant l'incertitude sur $c$.__\n",
    "\n",
    "\n",
    "#### Monte-Carlo : Méthode 1\n",
    "La première méthode est la plus simple à comprendre et à mettre en oeuvre. Elle présente par contre le plus long temps d'exécution.\n",
    "\n",
    "_Note: La ligne %time permet simplement d'afficher le temps de calcul de la cellule entière._"
   ]
  },
  {
   "cell_type": "code",
   "execution_count": 6,
   "id": "36d4b190",
   "metadata": {
    "tags": [
     "hide-input",
     "hide-output"
    ]
   },
   "outputs": [
    {
     "name": "stdout",
     "output_type": "stream",
     "text": [
      "CPU times: total: 0 ns\n",
      "Wall time: 0 ns\n",
      "u(c) = 1.5581246420369146\n"
     ]
    }
   ],
   "source": [
    "%time\n",
    "\"\"\"\n",
    "Il faut d'abord rentrer les DEMIE-LARGEURS des distributions pour chaque sources d'incertitude de chaque grandeur.\n",
    "- S'il y a moins de sources d'incertitude, supprimez en.\n",
    "- S'il y a plus de sources d'incertitude, ajoutez en en vous aidant du modèle.\n",
    "\"\"\"\n",
    "# Incertitudes estimées\n",
    "\n",
    "# t1\n",
    "t1_u1u = 4.3e-2  # Ecart-type de la première source d'incertitude de t1\n",
    "\n",
    "# t2\n",
    "t2_u1u = 1.0e-1  # Ecart-type de la première source d'incertitude de t1\n",
    "\n",
    "# d1\n",
    "d1_u1u = 2e-1  # Ecart-type de la première source d'incertitude de t1\n",
    "\n",
    "# d2\n",
    "d2_u1u = 2e-1  # Ecart-type de la première source d'incertitude de t1\n",
    "\n",
    "\n",
    "\n",
    "\n",
    "# INITIALISATION\n",
    "N = 100000  # Nombre de simulations réalisées.\n",
    "c_sim = []  # Liste vide où on va stocker les valeurs\n",
    "\n",
    "for i in range(N):\n",
    "    \"\"\"\n",
    "    On reprend le même code que pour calculer une valeur de c.\n",
    "    Sauf que les valeur de t1, t2, ... sont légèrement modifiées par un tirage aléatoires\n",
    "    pour CHAQUE sources d'incertitudes.\n",
    "    \"\"\"\n",
    "    # MODIFIER ces lignes en fonction du nombre de sources d'incertitudes estimées précédemment.\n",
    "    t1_sim = t1_m + rd.uniform(-t1_u1u, t1_u1u)\n",
    "    t2_sim = t2_m + rd.uniform(-t2_u1u, t2_u1u)\n",
    "    d1_sim = d1_m + rd.uniform(-d1_u1u, d1_u1u)\n",
    "    d2_sim = d2_m + rd.uniform(-d2_u1u, d2_u1u)\n",
    "\n",
    "    c = (d2_sim - d1_sim) / (t2_sim - t1_sim) # A modifier en le calcul comme précédemment (mais avec les t1_sim,...)\n",
    "\n",
    "    c_sim.append(c)  # On stocke la valeur simulées\n",
    "\n",
    "\"\"\"\n",
    "Estimation de l'incertitude de mesure\n",
    "\"\"\"\n",
    "c_u = np.std(c_sim, ddof=1)\n",
    "\n",
    "print(\"u(c) = \" + str(c_u))"
   ]
  },
  {
   "cell_type": "markdown",
   "id": "f02323d1",
   "metadata": {},
   "source": [
    "#### Monte-Carlo : Méthode 2\n",
    "La deuxième méthode conserve l'idée de l'itération précédente mais elle va créer les N valeurs simulées des mesurandes directes (_ici $t_1, t_2, d_1, d_2$_) d'un seul coup AVANT la boucle. On ira piocher dans les listes ainsi créées. L'avantage est que la création des N valeurs est beaucoup plus rapide. Il suffit de rajouter un troisième argument optionnel : `numpy.random.uniform(a: float, b: float, N: int) -> ndarray`. On obtient alors un _vecteur numpy_ (`ndarray`) et non une seule valeur."
   ]
  },
  {
   "cell_type": "code",
   "execution_count": 7,
   "id": "ba9c7bfe",
   "metadata": {
    "tags": [
     "remove-output",
     "hide-input"
    ]
   },
   "outputs": [
    {
     "name": "stdout",
     "output_type": "stream",
     "text": [
      "CPU times: total: 0 ns\n",
      "Wall time: 0 ns\n",
      "u(c) = 1.5559139059580738\n"
     ]
    }
   ],
   "source": [
    "%time\n",
    "\"\"\"\n",
    "Il n'est pas utile de redéfinir les incertitudes t1_u1u...\n",
    "Si vous avez exécuté le bloc précédent, elles sont en mémoire.\n",
    "\"\"\"\n",
    "\n",
    "# INITIALISATION\n",
    "N = 100000  # Nombre de simulations réalisées.\n",
    "c_sim = []  # Liste vide où on va stocker les valeurs\n",
    "\n",
    "# On simule ici N valeurs d'un seul coup pour chaque mesurandes directs.\n",
    "# MODIFIER les différentes lignes pour l'adapter aux exemples ici.\n",
    "t1_sims = t1_m + rd.uniform(-t1_u1u, t1_u1u, N)\n",
    "t2_sims = t2_m + rd.uniform(-t2_u1u, t2_u1u, N)\n",
    "d1_sims = d1_m + rd.uniform(-d1_u1u, d1_u1u, N)\n",
    "d2_sims = d2_m + rd.uniform(-d2_u1u, d2_u1u, N)\n",
    "\n",
    "for i in range(N):\n",
    "    \"\"\"\n",
    "    On reprend le même code que pour calculer une valeur de c.\n",
    "    Sauf qu'on ne refait par le tirage aléatoire, on pioche juste dans les valeurs déjà simulées.\n",
    "    \"\"\"\n",
    "    # MODIFIER ces lignes en vous aidant de la première.\n",
    "    t1_sim = t1_sims[i]\n",
    "    t2_sim = t2_sims[i]\n",
    "    d1_sim = d1_sims[i]\n",
    "    d2_sim = d2_sims[i]\n",
    "\n",
    "    c = (d2_sim - d1_sim) / (t2_sim - t1_sim) # A modifier en le calcul comme précédemment (mais avec les t1_sim,...)\n",
    "\n",
    "    c_sim.append(c)  # On stocke la valeur simulées\n",
    "\n",
    "\"\"\"\n",
    "Estimation de l'incertitude de mesure\n",
    "\"\"\"\n",
    "c_u = np.std(c_sim, ddof=1)\n",
    "\n",
    "print(\"u(c) = \" + str(c_u))"
   ]
  },
  {
   "cell_type": "markdown",
   "id": "c64ea83e",
   "metadata": {},
   "source": [
    "#### Monte-Carlo : Méthode 3\n",
    "On peut encore gagner du temps en utilisant la __vectorialisation__. En effet, les opérations pour obtenir $c$ (soustractions et division) peut s'appliquer __directement entre deux vecteurs numpy terme à terme.__"
   ]
  },
  {
   "cell_type": "code",
   "execution_count": 8,
   "id": "37f31765",
   "metadata": {
    "tags": [
     "remove-output",
     "hide-input"
    ]
   },
   "outputs": [
    {
     "name": "stdout",
     "output_type": "stream",
     "text": [
      "CPU times: total: 0 ns\n",
      "Wall time: 0 ns\n",
      "<class 'numpy.ndarray'>\n",
      "u(c) = 1.5621401142752196\n"
     ]
    }
   ],
   "source": [
    "%time\n",
    "\"\"\"\n",
    "Il n'est pas utile de redéfinir les incertitudes t1_u1u...\n",
    "Si vous avez exécuté le bloc précédent, elles sont en mémoire.\n",
    "\"\"\"\n",
    "\n",
    "\n",
    "\n",
    "# INITIALISATION\n",
    "N = 100000  # Nombre de simulations réalisées.\n",
    "c_sim = []  # Liste vide où on va stocker les valeurs\n",
    "\n",
    "# On simule ici N valeurs d'un seul coup pour chaque mesurandes directs.\n",
    "# MODIFIER les différentes lignes pour l'adapter aux exemples ici.\n",
    "t1_sims = t1_m + rd.uniform(-t1_u1u, t1_u1u, N)\n",
    "t2_sims = t2_m + rd.uniform(-t2_u1u, t2_u1u, N)\n",
    "d1_sims = d1_m + rd.uniform(-d1_u1u, d1_u1u, N)\n",
    "d2_sims = d2_m + rd.uniform(-d2_u1u, d2_u1u, N)\n",
    "\n",
    "# MODIFIER la ligne ci après en utilisant t1_sims, t2_sims... comme si c'était de simple flottants.\n",
    "# Comme ce sont des vecteurs numpy, la vectorialisation appliquera la relation mathématiques terme à terme : c_sim est un vecteur.\n",
    "c_sim = (d2_sims - d1_sims) / (t2_sims - t1_sims)\n",
    "print(type(c_sim))  # Observer en sortie que c_sim est bien un vecteur de taille N\n",
    "\n",
    "\n",
    "\"\"\"\n",
    "Estimation de l'incertitude de mesure\n",
    "\"\"\"\n",
    "c_u = np.std(c_sim, ddof=1)\n",
    "\n",
    "print(\"u(c) = \" + str(c_u))"
   ]
  },
  {
   "cell_type": "markdown",
   "id": "ba7dd9ac",
   "metadata": {},
   "source": [
    "Cette dernière méthode, BEAUCOUP PLUS RAPIDE,  peut s'appliquer tant que les opérations mises en jeu sont vectorialisables par numpy soit:\n",
    "* `+,-,/,*`\n",
    "* les fonctions usuelles `numpy.sin, numpy.cos, numpy.tan, numpy.log, numpy.exp...` __à condition qu'elle proviennent de la bibliothèqe numpy et non la bibliothèque math.__\n",
    "\n",
    "Exception notoire:\n",
    "* `numpy.polyfit` qui permet de faire des régression linéaire n'est pas vectorialisable.\n",
    "\n",
    "#### Autre avantage des méthodes 2 et 3\n",
    "On obtient par ces méthodes une liste (vecteur pour être précis) de valeurs simulées aussi pour $t_1, t_2...$^. On peut donc aussi calculer l'incertitude-type pour ces grandeurs et donc en rendre-compte dans son compte-rendu. Ici:"
   ]
  },
  {
   "cell_type": "code",
   "execution_count": 11,
   "id": "e24e4b23",
   "metadata": {
    "tags": [
     "remove-output",
     "hide-input"
    ]
   },
   "outputs": [
    {
     "name": "stdout",
     "output_type": "stream",
     "text": [
      "t1 = 0.7437 +/- 0.024790185774869924\n",
      "t2 = 2.238 +/- 0.05783602067853401\n",
      "d1 = 0 +/- 0.11547316470326982\n",
      "d2 = 55 +/- 0.11566160404947863\n",
      "c = 368.0653148631466 +/- 15.621401142752196\n"
     ]
    }
   ],
   "source": [
    "# MODIFIER les lignes suivantes en s'inspirant de la première\n",
    "t1_u = np.std(t1_sims, ddof=1)  # Incertitude sur t1\n",
    "t2_u = np.std(t2_sims, ddof=1)\n",
    "d1_u = np.std(d1_sims, ddof=1)\n",
    "d2_u = np.std(d2_sims, ddof=1)\n",
    "\n",
    "print(\"t1 = {} +/- {}\".format(t1_m, t1_u))  # Forme pas à connaître mais très utile pour afficher un texte complexe.\n",
    "print(\"t2 = {} +/- {}\".format(t2_m, t2_u))\n",
    "print(\"d1 = {} +/- {}\".format(d1_m, d1_u))\n",
    "print(\"d2 = {} +/- {}\".format(d2_m, d2_u))\n",
    "print(\"c = {} +/- {}\".format(c_m, c_u))  "
   ]
  },
  {
   "cell_type": "markdown",
   "id": "9ebbf831",
   "metadata": {},
   "source": [
    "### Rendez-compte de votre mesure\n",
    "L'affichage précédent n'__est pas acceptable__ car :\n",
    "* il affiche trop de chiffres\n",
    "* il ne donne pas l'unité.\n",
    "\n",
    "__Un résultat de mesure unique avec incertitude doit s'écrire sous la forme :__\n",
    "\n",
    "$$\n",
    "G = (G_{mes} \\pm u(G)) \\rm{Unités}\n",
    "$$\n",
    "\n",
    "Vous devez respectez les contraintes suivantes :\n",
    "* L'incertitude de mesure doit avoir 2 chiffres significatifs\n",
    "* La valeur mesure doit avoir la même précision que l'incertitude ne mesure.\n",
    "\n",
    "Rendre-compte de votre résultat de mesure.\n",
    "\n",
    "$$\n",
    "c = (Resultat de mesurage \\pm Incertitude) (Facultatif: \\times Puissance de 10) \\rm{Unité}\n",
    "$$"
   ]
  },
  {
   "cell_type": "markdown",
   "id": "4691c4c0",
   "metadata": {},
   "source": [
    "## Données théoriques\n",
    "D'après la littérature, la célérité du son dépend de la température et peut être approximée par la fonction :\n",
    "\n",
    "$$\n",
    "c_{air} = 331,5 + 0,607 \\theta\n",
    "$$\n",
    "\n",
    "autour de la température ambiante où $\\theta$ est la température en __Celsius__.\n",
    "\n",
    "_(Robert N. Compton et Michael A. Duncan, Laser Experiments for Chemistry and Physics)_\n",
    "\n",
    "> 1. Ecrire une fonction `cel_T(T)` qui prend comme argument un flottant (température T) et qui renvoie un flottant : la célérité(en m/s). L'utiliser pour estimer la celérité attendue.\n",
    "> 2. Estimer, on moyen d'une simulation Monte-Carlo l'incertitude sur la célérité attendue en supposant que la seule source d'incertitude vient de la mesure de la température.\n",
    "> 2. Calculer l'écart normalisé entre la célérité estimée par votre mesure et celle donnée par la littérature. Conclure quant à la compatibilité entre votre expérience et le modèle proposé.\n",
    "\n",
    "Pour rappel, l'écart-normalisé est:\n",
    "\n",
    "$$\n",
    "EN = \\frac{\\left\\vert c_{exp} - c_{attendue} \\right\\vert}{\\sqrt{u(c_{exp})^2 + u(c_{attendue})^2}}\n",
    "$$"
   ]
  },
  {
   "cell_type": "code",
   "execution_count": 14,
   "id": "47902a69",
   "metadata": {
    "tags": [
     "hide-input"
    ]
   },
   "outputs": [
    {
     "name": "stdout",
     "output_type": "stream",
     "text": [
      "1.3301048809995895\n"
     ]
    }
   ],
   "source": [
    "def cel_T(T):\n",
    "    \"\"\"Fonction renvoie la célérité pour une température T\"\"\"\n",
    "    return 331.5 + 0.607 * T\n",
    "\n",
    "\"\"\"Estimation de c_attendue\"\"\"\n",
    "T_m = 26 # Température\n",
    "T_u = 1 # Incertitude sur la température\n",
    "c_attendue = cel_T(T_m)\n",
    "\n",
    "\n",
    "\n",
    "\"\"\"Estimation de l'incertitude sur c_atttendue\"\"\"\n",
    "T_sim = T_m + rd.uniform(-T_u, T_u, N)\n",
    "c_att_sum = cel_T(T_sim)  # l'opération réalisée par cel_T étant vectorialisable, on peut appliquer la fonction à un vecteur\n",
    "c_att_u = np.std(c_att_sum, ddof=1)  # Calcul de l'incertitude sur la valeur attendue.\n",
    "\n",
    "\n",
    "\"\"\"Calculer l'écart normalisé.\"\"\"\n",
    "c_m = c_m * 10 # Passage en m/s\n",
    "c_u = c_u * 10 # Passage en m/s\n",
    "\n",
    "en = np.abs(c_m - c_attendue) / np.sqrt(c_u**2 + c_att_u ** 2)\n",
    "\n",
    "print(en)"
   ]
  },
  {
   "cell_type": "markdown",
   "id": "059604df",
   "metadata": {},
   "source": [
    "````{important} \n",
    "Que ce soit ici en codant sous Python ou par écrit en analysant un ensemble de résultats ou une courbe, l'exploitation n'est JAMAIS automatique et demande TOUJOURS de réfléchir en détail à vos résultats.\n",
    "````\n",
    "\n",
    "L'écart normalisé étant inférieur à 2, on peut considérer que la valeur mesurée est cohérente avec la valeur théorique tabulée."
   ]
  }
 ],
 "metadata": {
  "jupytext": {
   "encoding": "# -*- coding: utf-8 -*-",
   "formats": "ipynb,py:percent",
   "split_at_heading": true
  },
  "kernelspec": {
   "display_name": "Python 3",
   "language": "python",
   "name": "python3"
  },
  "language_info": {
   "codemirror_mode": {
    "name": "ipython",
    "version": 3
   },
   "file_extension": ".py",
   "mimetype": "text/x-python",
   "name": "python",
   "nbconvert_exporter": "python",
   "pygments_lexer": "ipython3",
   "version": "3.9.15"
  }
 },
 "nbformat": 4,
 "nbformat_minor": 5
}
